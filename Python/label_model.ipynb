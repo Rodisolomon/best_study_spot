{
 "cells": [
  {
   "cell_type": "code",
   "execution_count": 2,
   "id": "68cbed68-a297-4aa9-917d-eba8afee6e5c",
   "metadata": {},
   "outputs": [],
   "source": [
    "import nltk\n",
    "from nltk.corpus import wordnet as wn\n",
    "import requests\n",
    "import pandas as pd"
   ]
  },
  {
   "cell_type": "code",
   "execution_count": null,
   "id": "d7539114-d478-4605-8fb3-ad166636356c",
   "metadata": {},
   "outputs": [],
   "source": []
  },
  {
   "cell_type": "code",
   "execution_count": 3,
   "id": "3c6e7fa7-402d-479b-b8f6-dd9d475eaab8",
   "metadata": {},
   "outputs": [
    {
     "name": "stderr",
     "output_type": "stream",
     "text": [
      "[nltk_data] Downloading package wordnet to\n",
      "[nltk_data]     /Users/hanzhitan/nltk_data...\n",
      "[nltk_data] Downloading package omw-1.4 to\n",
      "[nltk_data]     /Users/hanzhitan/nltk_data...\n"
     ]
    },
    {
     "name": "stdout",
     "output_type": "stream",
     "text": [
      "{'hush', 'restrained', 'tranquillity', 'smooth', 'quiet down', 'muted', 'quiet', 'hushed', 'tranquillize', 'quieten', 'tranquil', 'tranquility', 'silence', 'placid', 'calm down', 'tranquilize', 'pipe down', 'repose', 'serenity', 'unruffled', 'quiesce', 'still', 'lull', 'subdued', 'placidity', 'calm', 'tranquillise', 'quietly'}\n"
     ]
    }
   ],
   "source": [
    "\n",
    "nltk.download('wordnet')\n",
    "nltk.download('omw-1.4')\n",
    "\n",
    "def get_synonyms(word):\n",
    "    synonyms = set()\n",
    "    for syn in wn.synsets(word):\n",
    "        for lemma in syn.lemmas():\n",
    "            synonyms.add(lemma.name().replace('_', ' '))\n",
    "    return synonyms\n",
    "\n",
    "# Example synonyms for 'quiet'\n",
    "quiet_synonyms = get_synonyms('quiet')\n",
    "print(quiet_synonyms)\n"
   ]
  },
  {
   "cell_type": "code",
   "execution_count": null,
   "id": "b47991f6-ddb9-4d32-a46e-57a5a8c2a29f",
   "metadata": {},
   "outputs": [],
   "source": [
    "def fetch_places_nearby(api_key, location, radius, place_type):\n",
    "    url = \"https://maps.googleapis.com/maps/api/place/nearbysearch/json\"\n",
    "    params = {\n",
    "        'key': api_key,\n",
    "        'location': location,  # \"latitude,longitude\"\n",
    "        'radius': radius,\n",
    "        'type': place_type\n",
    "    }\n",
    "    response = requests.get(url, params=params)\n",
    "    results = response.json().get('results', [])\n",
    "    places = []\n",
    "    for place in results:\n",
    "        places.append({\n",
    "            'name': place.get('name'),\n",
    "            'address': place.get('vicinity'),\n",
    "            'type': place_type,\n",
    "            'rating': place.get('rating', None),\n",
    "            'user_ratings_total': place.get('user_ratings_total', 0),\n",
    "            'latitude': place['geometry']['location']['lat'],\n",
    "            'longitude': place['geometry']['location']['lng'],\n",
    "        })\n",
    "    return places\n",
    "\n",
    "# Example usage\n",
    "api_key = 'YOUR_API_KEY_HERE'\n",
    "places = []\n",
    "for place_type in ['library', 'cafe', 'bar']:  # Add more types if needed\n",
    "    places.extend(fetch_places_nearby(api_key, '41.8781,-87.6298', 1000, place_type))\n"
   ]
  },
  {
   "cell_type": "code",
   "execution_count": null,
   "id": "f4b909e1-a321-45f4-8abc-bfea7b13f3f2",
   "metadata": {},
   "outputs": [],
   "source": [
    "labels_with_synonyms = {\n",
    "    'quiet': get_synonyms('quiet'),\n",
    "    'group_work': get_synonyms('group_work'),\n",
    "    'wifi_available': ['wifi', 'free wifi', 'wireless internet', 'internet available'],\n",
    "    'ambience': {get_synonyms('modern'), get_synonyms('bustling'), get_synonyms('cozy')},\n",
    "}\n",
    "\n",
    "def label_extraction(place_info):\n",
    "    description = (place_info.get('name', '') + ' ' + place_info.get('address', '')).lower()\n",
    "    features = {label: 0 for label in labels_with_synonyms.keys()}\n",
    "    \n",
    "    for label, synonyms in labels_with_synonyms.items():\n",
    "        if label == 'ambience':\n",
    "            # Ambience requires checking for multiple types\n",
    "            features[label] = []\n",
    "            for ambiance_type in synonyms:\n",
    "                if any(word in description for word in get_synonyms(ambiance_type)):\n",
    "                    features[label].append(ambiance_type)\n",
    "        else:\n",
    "            # Other features are binary\n",
    "            if any(word in description for word in synonyms):\n",
    "                features[label] = 1\n",
    "    \n",
    "    return features\n",
    "\n",
    "# Example place for testing\n",
    "place_info = {\n",
    "    'name': 'Java City',\n",
    "    'address': '123 Brew St, Free WiFi available, cozy seating ideal for group work'\n",
    "}\n",
    "\n",
    "# Test the function\n",
    "print(label_extraction(place_info))\n",
    "\n",
    "\n",
    "\n",
    "# {\n",
    "#     \"quiet\": 0,\n",
    "#     \"wifi_available\": 1,\n",
    "#     \"ambience\": [\"cozy\"],\n",
    "#     \"group_work\": 1\n",
    "# }"
   ]
  }
 ],
 "metadata": {
  "kernelspec": {
   "display_name": "Python 3 (ipykernel)",
   "language": "python",
   "name": "python3"
  },
  "language_info": {
   "codemirror_mode": {
    "name": "ipython",
    "version": 3
   },
   "file_extension": ".py",
   "mimetype": "text/x-python",
   "name": "python",
   "nbconvert_exporter": "python",
   "pygments_lexer": "ipython3",
   "version": "3.11.7"
  }
 },
 "nbformat": 4,
 "nbformat_minor": 5
}
